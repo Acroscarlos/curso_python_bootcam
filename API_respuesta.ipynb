{
 "cells": [
  {
   "cell_type": "code",
   "execution_count": 2,
   "metadata": {},
   "outputs": [],
   "source": [
    "import requests\n",
    "import json\n",
    "# https://developers.mercadolibre.com.ve/es_ar/gestiona-preguntas-respuestas"
   ]
  },
  {
   "cell_type": "code",
   "execution_count": 4,
   "metadata": {
    "scrolled": false
   },
   "outputs": [
    {
     "name": "stdout",
     "output_type": "stream",
     "text": [
      "<Response [403]>\n"
     ]
    }
   ],
   "source": [
    "TEXTO = \"Gracias por preguntar\"\n",
    "item_ID = \"MLV541722757\"\n",
    "pregunta_ID = 6358337462\n",
    "access_token='xxxx'\n",
    "\n",
    "\n",
    "if __name__==\"__main__\":\n",
    "    \n",
    "    url='https://api.mercadolibre.com/answers'\n",
    "            \n",
    "    headers = {'Content-Type': 'application/json'}\n",
    "    \n",
    "    args= { \"access_token\" : access_token, \"question_id\" : pregunta_ID, \"text\":TEXTO}\n",
    "        \n",
    "    response = requests.post(url, data = json.dumps(args))\n",
    "    \n",
    "    if response.status_code==200:\n",
    "                \n",
    "        estructura=response.json()\n",
    "                    \n",
    "    else:\n",
    "            \n",
    "        print(response)"
   ]
  }
 ],
 "metadata": {
  "kernelspec": {
   "display_name": "Python 3",
   "language": "python",
   "name": "python3"
  },
  "language_info": {
   "codemirror_mode": {
    "name": "ipython",
    "version": 3
   },
   "file_extension": ".py",
   "mimetype": "text/x-python",
   "name": "python",
   "nbconvert_exporter": "python",
   "pygments_lexer": "ipython3",
   "version": "3.7.3"
  }
 },
 "nbformat": 4,
 "nbformat_minor": 2
}
