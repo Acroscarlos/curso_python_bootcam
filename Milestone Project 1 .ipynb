{
 "cells": [
  {
   "cell_type": "markdown",
   "metadata": {},
   "source": [
    "# Milestone Project 1: Walkthrough Steps Workbook\n",
    "\n",
    "Below is a set of steps for you to follow to try to create the Tic Tac Toe Milestone Project game!"
   ]
  },
  {
   "cell_type": "code",
   "execution_count": 1,
   "metadata": {},
   "outputs": [],
   "source": [
    "\n",
    "def display_board(board):\n",
    "    \"\"\"\n",
    "    REGRESA EL TABLERO DE JUEGO\n",
    "    \"\"\"\n",
    "    espacio=board[0]*18\n",
    "    primera_linea=\"   \".join([board[1],board[0],board[2],board[0],board[3]])\n",
    "    espacado=\"   \".join([\" \",board[0],\" \",board[0],\" \"])\n",
    "    segunda_linea=\"   \".join([board[4],board[0],board[5],board[0],board[6]])\n",
    "    tercera_linea=\"   \".join([board[7],board[0],board[8],board[0],board[9]])\n",
    "    for _ in [espacado,primera_linea,espacado,espacio,espacado,segunda_linea,espacado,espacio,espacado,tercera_linea,espacado]:\n",
    "        print(_)\n",
    "    \n"
   ]
  },
  {
   "cell_type": "code",
   "execution_count": 2,
   "metadata": {},
   "outputs": [],
   "source": [
    "#i=0\n",
    "def player_input(i):\n",
    "    \"\"\"\n",
    "    REGRESA LA POSICION DE LA JUGADA\n",
    "    \"\"\"\n",
    "    if i%2==0:\n",
    "        pos=input(\"\\nPosicion para la X:\")\n",
    "        \n",
    "        while pos not in list(map(str,range(1,10))):\n",
    "            print(f\"Posicion Invalida {pos} no esta en el rango 1 a 9\")\n",
    "            pos= input(\"\\nPosicion para la X:\")\n",
    "        \n",
    "        return int(pos)\n",
    "    else:\n",
    "        pos=input(\"\\nPosicion para la O:\")\n",
    "        \n",
    "        while pos not in list(map(str,range(1,10))):\n",
    "            print(f\"Posicion Invalida {pos} no esta en el rango 1 a 9\")\n",
    "            pos=(input(\"\\nPosicion para la X:\"))\n",
    "        \n",
    "        return int(pos)\n",
    "#i+=1"
   ]
  },
  {
   "cell_type": "code",
   "execution_count": 3,
   "metadata": {},
   "outputs": [],
   "source": [
    "\n",
    "def place_marker(board,i,position):\n",
    "    \"\"\"\n",
    "    REGRESA EL TABLERO MODIFICADO CON EL MARCADOR \"X\" U \"O\"\n",
    "    \"\"\"\n",
    "    if i % 2 ==0:\n",
    "        board[position]=\"X\"\n",
    "        return board[position]\n",
    "    else:\n",
    "        board[position]=\"O\"\n",
    "        return board[position]        "
   ]
  },
  {
   "cell_type": "code",
   "execution_count": 4,
   "metadata": {},
   "outputs": [],
   "source": [
    "def win_check(board):\n",
    "    \"\"\"\n",
    "    REVISA SI HAY UN GANADOR EN EL JUEGO\n",
    "    \"\"\"\n",
    "    if board[1]==board[2]==board[3]:\n",
    "        print(f\"\\nGANADOR !{board[3]}¡\")\n",
    "        return True\n",
    "    elif board[4]==board[5]==board[6]:\n",
    "        print(f\"\\nGANADOR !{board[6]}¡\")\n",
    "        return True\n",
    "    elif board[7]==board[8]==board[9]:\n",
    "        print(f\"\\nGANADOR !{board[9]}¡\")\n",
    "        return True\n",
    "    elif board[1]==board[4]==board[7]:\n",
    "        print(f\"\\nGANADOR !{board[7]}¡\")\n",
    "        return True\n",
    "    elif board[2]==board[5]==board[8]:\n",
    "        print(f\"\\nGANADOR !{board[8]}¡\")\n",
    "        return True\n",
    "    elif board[9]==board[6]==board[3]:\n",
    "        print(f\"\\nGANADOR !{board[3]}¡\")\n",
    "        return True\n",
    "    elif board[1]==board[5]==board[9]:\n",
    "        print(f\"\\nGANADOR !{board[9]}¡\")\n",
    "        return True\n",
    "    elif board[7]==board[5]==board[3]:\n",
    "        print(f\"\\nGANADOR !{board[3]}¡\")\n",
    "        return True\n",
    "    else:\n",
    "        return False\n"
   ]
  },
  {
   "cell_type": "code",
   "execution_count": 5,
   "metadata": {},
   "outputs": [],
   "source": [
    "import random\n",
    "def choose_first():\n",
    "    \"\"\"\n",
    "    ELIGE AL PRIMER JUGADOR \"UN VALOR ENTRE 1 Y 2\"\n",
    "    \"\"\"\n",
    "    i=random.randint(1,2)\n",
    "    return i"
   ]
  },
  {
   "cell_type": "code",
   "execution_count": 6,
   "metadata": {},
   "outputs": [],
   "source": [
    "def space_check(board, position):\n",
    "    \"\"\"\n",
    "    REVISA SI EL LUGAR ESTA LIBRE\n",
    "    \"\"\"\n",
    "    if board[position] != \"X\"and board[position] != \"O\":\n",
    "        return True\n",
    "    else:\n",
    "        return False\n",
    "\n",
    "    "
   ]
  },
  {
   "cell_type": "code",
   "execution_count": 7,
   "metadata": {},
   "outputs": [],
   "source": [
    "def full_board_check(board):\n",
    "    \"\"\"\n",
    "    REVISA SI EL TABLERO ESTA FULL\n",
    "    \"\"\"\n",
    "    i=0\n",
    "    for _ in list(range(1,10)):\n",
    "        if str(_) in board[1:10]:\n",
    "            i+=1\n",
    "    if i == 0:\n",
    "        return True\n",
    "    else:\n",
    "        return False"
   ]
  },
  {
   "cell_type": "code",
   "execution_count": 8,
   "metadata": {},
   "outputs": [],
   "source": [
    "def replay():\n",
    "    a = input(\"\\nQuieres seguir jugando (y/n): \")\n",
    "    while a.lower()!=\"y\" and a.lower()!=\"n\" :\n",
    "        print(\"\\nRespuesta invalida\")\n",
    "        a = input(\"\\nQuieres seguir jugando (y/n): \")\n",
    "    \n",
    "    if a.lower()==\"y\":\n",
    "        return True\n",
    "    elif a.lower()==\"n\":\n",
    "        return False\n",
    "\n",
    "        "
   ]
  },
  {
   "cell_type": "code",
   "execution_count": 10,
   "metadata": {},
   "outputs": [
    {
     "name": "stdout",
     "output_type": "stream",
     "text": [
      "    #       #    \n",
      "X   #   O   #   X\n",
      "    #       #    \n",
      "##################\n",
      "    #       #    \n",
      "O   #   X   #   O\n",
      "    #       #    \n",
      "##################\n",
      "    #       #    \n",
      "X   #   X   #   O\n",
      "    #       #    \n",
      "\n",
      "GANADOR !X¡\n",
      "\n",
      "Quieres seguir jugando (y/n): m\n",
      "\n",
      "Respuesta invalida\n",
      "\n",
      "Quieres seguir jugando (y/n): n\n"
     ]
    }
   ],
   "source": [
    "from IPython.display import clear_output\n",
    "a=True\n",
    "while a:\n",
    "    clear_output()\n",
    "    default_board=['#','1','2','3','4','5','6','7','8','9']      \n",
    "    i=choose_first()\n",
    "    i+=10\n",
    "    display_board(default_board)\n",
    "    while i>0:\n",
    "\n",
    "        pos=player_input(i) #PREGUNTA LA POSICION\n",
    "\n",
    "# SI LA POSICION ESTA DISPONIBLE:\n",
    "#PON LA FICHA\n",
    "        if space_check(default_board, pos):\n",
    "            place_marker(default_board,i,pos)\n",
    "# SI NO ENTONCES PIDE:\n",
    "        else:\n",
    "            while not space_check(default_board, pos):\n",
    "                print(f\"\\nEspacio {pos} no disponible, elige otro...\")\n",
    "                pos=player_input(i)\n",
    "            place_marker(default_board,i,pos)\n",
    "\n",
    "\n",
    "#place_marker(default_board,i,pos) # PONE LA FICHA\n",
    "        clear_output()\n",
    "        display_board(default_board)\n",
    "    \n",
    "        if win_check(default_board):\n",
    "            break\n",
    "        elif full_board_check(default_board):\n",
    "            print(\"\\n\\nGANO LA VIEJAAA!!\")\n",
    "            break\n",
    "#win_check(default_board) # TRUE SI HAY UN GANADOR\n",
    "\n",
    "#space_check(default_board, pos) #TRUE SI LA POSICION ESTA LIBRE\n",
    "\n",
    "\n",
    "#full_board_check(default_board) # TRUE SI EL TABLERO ESTA FULL\n",
    "        i-=1\n",
    "    a=replay()"
   ]
  }
 ],
 "metadata": {
  "kernelspec": {
   "display_name": "Python 3",
   "language": "python",
   "name": "python3"
  },
  "language_info": {
   "codemirror_mode": {
    "name": "ipython",
    "version": 3
   },
   "file_extension": ".py",
   "mimetype": "text/x-python",
   "name": "python",
   "nbconvert_exporter": "python",
   "pygments_lexer": "ipython3",
   "version": "3.7.3"
  }
 },
 "nbformat": 4,
 "nbformat_minor": 1
}
